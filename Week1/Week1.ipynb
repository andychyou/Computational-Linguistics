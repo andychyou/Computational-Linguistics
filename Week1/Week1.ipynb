{
  "nbformat": 4,
  "nbformat_minor": 0,
  "metadata": {
    "colab": {
      "name": "Untitled5.ipynb",
      "provenance": [],
      "authorship_tag": "ABX9TyPOb6kb1vLxKWG66ouD5hkG",
      "include_colab_link": true
    },
    "kernelspec": {
      "name": "python3",
      "display_name": "Python 3"
    },
    "language_info": {
      "name": "python"
    }
  },
  "cells": [
    {
      "cell_type": "markdown",
      "metadata": {
        "id": "view-in-github",
        "colab_type": "text"
      },
      "source": [
        "<a href=\"https://colab.research.google.com/github/andychyou/Computational-Linguistics/blob/main/Untitled5.ipynb\" target=\"_parent\"><img src=\"https://colab.research.google.com/assets/colab-badge.svg\" alt=\"Open In Colab\"/></a>"
      ]
    },
    {
      "cell_type": "code",
      "source": [
        "from collections import Counter\n",
        "from nltk.util import ngrams"
      ],
      "metadata": {
        "id": "Av99gBHroLh8"
      },
      "execution_count": 3,
      "outputs": []
    },
    {
      "cell_type": "code",
      "source": [
        "import re\n",
        "def tokenize(text):\n",
        "  all_words = re.findall(\"[A-Za-z0-9']+\",text)\n",
        "  return all_words"
      ],
      "metadata": {
        "id": "2Z2sn0Gst0vj"
      },
      "execution_count": 4,
      "outputs": []
    },
    {
      "cell_type": "markdown",
      "source": [
        "This function filters out comma, full stops.\n",
        "We define this function to prevent situations like 'Korean' 'Korean,' being split as seperate words.\n",
        "\n",
        "findall() method looks for letters inside the [] bracket(alphabet, number and ' in this example) from the second argument (text string in this example) and returns a list. \n",
        "\n",
        "The function goes through the given string, looking for the demanded letters and when it hits an unwanted letter, it regards all the lettes right before it as a word and appends it to a list. \n",
        "\n",
        "ex) 'i am hungry' -> 'i', 'am', 'hungry' appends to list. blank space is an unwanted letter so all the letters before that is treated as a word."
      ],
      "metadata": {
        "id": "3PEKKq0uc4ka"
      }
    },
    {
      "cell_type": "code",
      "execution_count": 5,
      "metadata": {
        "id": "MU9LhQIInyca"
      },
      "outputs": [],
      "source": [
        "data = '''\n",
        "Korean studies is an academic discipline that focuses on the study of Korea, which includes the Republic of Korea, the Democratic People's Republic of Korea, and diasporic Korean populations. Areas commonly included under this rubric include Korean history, Korean culture, Korean literature, Korean art, Korean music, Korean language and linguistics, Korean sociology and anthropology, Korean politics, Korean economics, Korean folklore, Korean ethnomusicology and increasingly study of Korean popular culture. It may be compared to other area studies disciplines, such as American studies and Chinese studies. Korean studies is sometimes included within a broader regional area of focus including \"East Asian studies\".\n",
        "\n",
        "The term Korean studies first began to be used in the 1940s, but did not attain widespread currency until South Korea rose to economic prominence in the 1970s. In 1991, the South Korean government established the Korea Foundation to promote Korean studies around the world.[1]\n",
        "\n",
        "Korean studies was originally an area of study conceived of and defined by non-Koreans. Korean scholars of Korea tend to see themselves as linguists, sociologists, and historians, but not as \"Koreanists\" unless they have received at least some of their education outside Korea and are academically active (for example publishing and attending conferences)in languages other than Korean (most Korean studies publications are in English but there is also a significant amount of Korean Studies activity in other European languages), or work outside Korean academia. In the mid-2000s, Korean universities pushing for more classes taught in English began to hire foreign-trained Koreanists of Korean and non-Korean origin to teach classes. This was often geared towards foreigners in Korean graduate schools. There are now graduate school programs in Korean Studies (mostly active at the MA level) in most of the major Korean universities. BA programs in Korean Studies have now been opened at two Korean universities. The BA programs are distinctive in that they have few foreign students.\n",
        "'''\n"
      ]
    },
    {
      "cell_type": "code",
      "source": [
        "data_list = tokenize(data)\n",
        "print(data_list)"
      ],
      "metadata": {
        "colab": {
          "base_uri": "https://localhost:8080/"
        },
        "id": "zYCI52Pstaxz",
        "outputId": "d575e0fe-54bd-4049-85f8-7e87ba60b18c"
      },
      "execution_count": 6,
      "outputs": [
        {
          "output_type": "stream",
          "name": "stdout",
          "text": [
            "['Korean', 'studies', 'is', 'an', 'academic', 'discipline', 'that', 'focuses', 'on', 'the', 'study', 'of', 'Korea', 'which', 'includes', 'the', 'Republic', 'of', 'Korea', 'the', 'Democratic', \"People's\", 'Republic', 'of', 'Korea', 'and', 'diasporic', 'Korean', 'populations', 'Areas', 'commonly', 'included', 'under', 'this', 'rubric', 'include', 'Korean', 'history', 'Korean', 'culture', 'Korean', 'literature', 'Korean', 'art', 'Korean', 'music', 'Korean', 'language', 'and', 'linguistics', 'Korean', 'sociology', 'and', 'anthropology', 'Korean', 'politics', 'Korean', 'economics', 'Korean', 'folklore', 'Korean', 'ethnomusicology', 'and', 'increasingly', 'study', 'of', 'Korean', 'popular', 'culture', 'It', 'may', 'be', 'compared', 'to', 'other', 'area', 'studies', 'disciplines', 'such', 'as', 'American', 'studies', 'and', 'Chinese', 'studies', 'Korean', 'studies', 'is', 'sometimes', 'included', 'within', 'a', 'broader', 'regional', 'area', 'of', 'focus', 'including', 'East', 'Asian', 'studies', 'The', 'term', 'Korean', 'studies', 'first', 'began', 'to', 'be', 'used', 'in', 'the', '1940s', 'but', 'did', 'not', 'attain', 'widespread', 'currency', 'until', 'South', 'Korea', 'rose', 'to', 'economic', 'prominence', 'in', 'the', '1970s', 'In', '1991', 'the', 'South', 'Korean', 'government', 'established', 'the', 'Korea', 'Foundation', 'to', 'promote', 'Korean', 'studies', 'around', 'the', 'world', '1', 'Korean', 'studies', 'was', 'originally', 'an', 'area', 'of', 'study', 'conceived', 'of', 'and', 'defined', 'by', 'non', 'Koreans', 'Korean', 'scholars', 'of', 'Korea', 'tend', 'to', 'see', 'themselves', 'as', 'linguists', 'sociologists', 'and', 'historians', 'but', 'not', 'as', 'Koreanists', 'unless', 'they', 'have', 'received', 'at', 'least', 'some', 'of', 'their', 'education', 'outside', 'Korea', 'and', 'are', 'academically', 'active', 'for', 'example', 'publishing', 'and', 'attending', 'conferences', 'in', 'languages', 'other', 'than', 'Korean', 'most', 'Korean', 'studies', 'publications', 'are', 'in', 'English', 'but', 'there', 'is', 'also', 'a', 'significant', 'amount', 'of', 'Korean', 'Studies', 'activity', 'in', 'other', 'European', 'languages', 'or', 'work', 'outside', 'Korean', 'academia', 'In', 'the', 'mid', '2000s', 'Korean', 'universities', 'pushing', 'for', 'more', 'classes', 'taught', 'in', 'English', 'began', 'to', 'hire', 'foreign', 'trained', 'Koreanists', 'of', 'Korean', 'and', 'non', 'Korean', 'origin', 'to', 'teach', 'classes', 'This', 'was', 'often', 'geared', 'towards', 'foreigners', 'in', 'Korean', 'graduate', 'schools', 'There', 'are', 'now', 'graduate', 'school', 'programs', 'in', 'Korean', 'Studies', 'mostly', 'active', 'at', 'the', 'MA', 'level', 'in', 'most', 'of', 'the', 'major', 'Korean', 'universities', 'BA', 'programs', 'in', 'Korean', 'Studies', 'have', 'now', 'been', 'opened', 'at', 'two', 'Korean', 'universities', 'The', 'BA', 'programs', 'are', 'distinctive', 'in', 'that', 'they', 'have', 'few', 'foreign', 'students']\n"
          ]
        }
      ]
    },
    {
      "cell_type": "markdown",
      "source": [
        "We have separated the given data by words"
      ],
      "metadata": {
        "id": "L-_57frHi7hD"
      }
    },
    {
      "cell_type": "code",
      "source": [
        "word_c = Counter(data_list)\n",
        "print(word_c)"
      ],
      "metadata": {
        "colab": {
          "base_uri": "https://localhost:8080/"
        },
        "id": "JnDowS1EvxdV",
        "outputId": "eca04f67-d0ab-46b2-a83d-f2d6860a61b7"
      },
      "execution_count": null,
      "outputs": [
        {
          "output_type": "stream",
          "name": "stdout",
          "text": [
            "Counter({'Korean': 32, 'of': 12, 'the': 11, 'in': 11, 'studies': 10, 'and': 10, 'Korea': 7, 'to': 7, 'are': 4, 'is': 3, 'study': 3, 'other': 3, 'area': 3, 'as': 3, 'but': 3, 'have': 3, 'at': 3, 'Studies': 3, 'universities': 3, 'programs': 3, 'an': 2, 'that': 2, 'Republic': 2, 'included': 2, 'culture': 2, 'be': 2, 'a': 2, 'The': 2, 'began': 2, 'not': 2, 'South': 2, 'In': 2, 'was': 2, 'non': 2, 'Koreanists': 2, 'they': 2, 'outside': 2, 'active': 2, 'for': 2, 'languages': 2, 'most': 2, 'English': 2, 'classes': 2, 'foreign': 2, 'graduate': 2, 'now': 2, 'BA': 2, 'academic': 1, 'discipline': 1, 'focuses': 1, 'on': 1, 'which': 1, 'includes': 1, 'Democratic': 1, \"People's\": 1, 'diasporic': 1, 'populations': 1, 'Areas': 1, 'commonly': 1, 'under': 1, 'this': 1, 'rubric': 1, 'include': 1, 'history': 1, 'literature': 1, 'art': 1, 'music': 1, 'language': 1, 'linguistics': 1, 'sociology': 1, 'anthropology': 1, 'politics': 1, 'economics': 1, 'folklore': 1, 'ethnomusicology': 1, 'increasingly': 1, 'popular': 1, 'It': 1, 'may': 1, 'compared': 1, 'disciplines': 1, 'such': 1, 'American': 1, 'Chinese': 1, 'sometimes': 1, 'within': 1, 'broader': 1, 'regional': 1, 'focus': 1, 'including': 1, 'East': 1, 'Asian': 1, 'term': 1, 'first': 1, 'used': 1, '1940s': 1, 'did': 1, 'attain': 1, 'widespread': 1, 'currency': 1, 'until': 1, 'rose': 1, 'economic': 1, 'prominence': 1, '1970s': 1, '1991': 1, 'government': 1, 'established': 1, 'Foundation': 1, 'promote': 1, 'around': 1, 'world': 1, '1': 1, 'originally': 1, 'conceived': 1, 'defined': 1, 'by': 1, 'Koreans': 1, 'scholars': 1, 'tend': 1, 'see': 1, 'themselves': 1, 'linguists': 1, 'sociologists': 1, 'historians': 1, 'unless': 1, 'received': 1, 'least': 1, 'some': 1, 'their': 1, 'education': 1, 'academically': 1, 'example': 1, 'publishing': 1, 'attending': 1, 'conferences': 1, 'than': 1, 'publications': 1, 'there': 1, 'also': 1, 'significant': 1, 'amount': 1, 'activity': 1, 'European': 1, 'or': 1, 'work': 1, 'academia': 1, 'mid': 1, '2000s': 1, 'pushing': 1, 'more': 1, 'taught': 1, 'hire': 1, 'trained': 1, 'origin': 1, 'teach': 1, 'This': 1, 'often': 1, 'geared': 1, 'towards': 1, 'foreigners': 1, 'schools': 1, 'There': 1, 'school': 1, 'mostly': 1, 'MA': 1, 'level': 1, 'major': 1, 'been': 1, 'opened': 1, 'two': 1, 'distinctive': 1, 'few': 1, 'students': 1})\n"
          ]
        }
      ]
    },
    {
      "cell_type": "markdown",
      "source": [
        "Counter() function returns a dictionary whose key is an element from the argument and value being the accurance of that element "
      ],
      "metadata": {
        "id": "D1qNDHCSjenx"
      }
    },
    {
      "cell_type": "code",
      "source": [
        "bigram = list(ngrams(data_list, 2))\n",
        "bigram_c = Counter(bigram)\n",
        "print(bigram_c)"
      ],
      "metadata": {
        "colab": {
          "base_uri": "https://localhost:8080/"
        },
        "id": "mObrdz6goG3p",
        "outputId": "83722b36-2dc8-4281-8373-4e96d507e0b3"
      },
      "execution_count": null,
      "outputs": [
        {
          "output_type": "stream",
          "name": "stdout",
          "text": [
            "Counter({('Korean', 'studies'): 6, ('of', 'Korea'): 4, ('of', 'Korean'): 3, ('Korean', 'Studies'): 3, ('Korean', 'universities'): 3, ('in', 'Korean'): 3, ('studies', 'is'): 2, ('study', 'of'): 2, ('Republic', 'of'): 2, ('Korea', 'and'): 2, ('area', 'of'): 2, ('began', 'to'): 2, ('in', 'the'): 2, ('they', 'have'): 2, ('in', 'English'): 2, ('programs', 'in'): 2, ('BA', 'programs'): 2, ('is', 'an'): 1, ('an', 'academic'): 1, ('academic', 'discipline'): 1, ('discipline', 'that'): 1, ('that', 'focuses'): 1, ('focuses', 'on'): 1, ('on', 'the'): 1, ('the', 'study'): 1, ('Korea', 'which'): 1, ('which', 'includes'): 1, ('includes', 'the'): 1, ('the', 'Republic'): 1, ('Korea', 'the'): 1, ('the', 'Democratic'): 1, ('Democratic', \"People's\"): 1, (\"People's\", 'Republic'): 1, ('and', 'diasporic'): 1, ('diasporic', 'Korean'): 1, ('Korean', 'populations'): 1, ('populations', 'Areas'): 1, ('Areas', 'commonly'): 1, ('commonly', 'included'): 1, ('included', 'under'): 1, ('under', 'this'): 1, ('this', 'rubric'): 1, ('rubric', 'include'): 1, ('include', 'Korean'): 1, ('Korean', 'history'): 1, ('history', 'Korean'): 1, ('Korean', 'culture'): 1, ('culture', 'Korean'): 1, ('Korean', 'literature'): 1, ('literature', 'Korean'): 1, ('Korean', 'art'): 1, ('art', 'Korean'): 1, ('Korean', 'music'): 1, ('music', 'Korean'): 1, ('Korean', 'language'): 1, ('language', 'and'): 1, ('and', 'linguistics'): 1, ('linguistics', 'Korean'): 1, ('Korean', 'sociology'): 1, ('sociology', 'and'): 1, ('and', 'anthropology'): 1, ('anthropology', 'Korean'): 1, ('Korean', 'politics'): 1, ('politics', 'Korean'): 1, ('Korean', 'economics'): 1, ('economics', 'Korean'): 1, ('Korean', 'folklore'): 1, ('folklore', 'Korean'): 1, ('Korean', 'ethnomusicology'): 1, ('ethnomusicology', 'and'): 1, ('and', 'increasingly'): 1, ('increasingly', 'study'): 1, ('Korean', 'popular'): 1, ('popular', 'culture'): 1, ('culture', 'It'): 1, ('It', 'may'): 1, ('may', 'be'): 1, ('be', 'compared'): 1, ('compared', 'to'): 1, ('to', 'other'): 1, ('other', 'area'): 1, ('area', 'studies'): 1, ('studies', 'disciplines'): 1, ('disciplines', 'such'): 1, ('such', 'as'): 1, ('as', 'American'): 1, ('American', 'studies'): 1, ('studies', 'and'): 1, ('and', 'Chinese'): 1, ('Chinese', 'studies'): 1, ('studies', 'Korean'): 1, ('is', 'sometimes'): 1, ('sometimes', 'included'): 1, ('included', 'within'): 1, ('within', 'a'): 1, ('a', 'broader'): 1, ('broader', 'regional'): 1, ('regional', 'area'): 1, ('of', 'focus'): 1, ('focus', 'including'): 1, ('including', 'East'): 1, ('East', 'Asian'): 1, ('Asian', 'studies'): 1, ('studies', 'The'): 1, ('The', 'term'): 1, ('term', 'Korean'): 1, ('studies', 'first'): 1, ('first', 'began'): 1, ('to', 'be'): 1, ('be', 'used'): 1, ('used', 'in'): 1, ('the', '1940s'): 1, ('1940s', 'but'): 1, ('but', 'did'): 1, ('did', 'not'): 1, ('not', 'attain'): 1, ('attain', 'widespread'): 1, ('widespread', 'currency'): 1, ('currency', 'until'): 1, ('until', 'South'): 1, ('South', 'Korea'): 1, ('Korea', 'rose'): 1, ('rose', 'to'): 1, ('to', 'economic'): 1, ('economic', 'prominence'): 1, ('prominence', 'in'): 1, ('the', '1970s'): 1, ('1970s', 'In'): 1, ('In', '1991'): 1, ('1991', 'the'): 1, ('the', 'South'): 1, ('South', 'Korean'): 1, ('Korean', 'government'): 1, ('government', 'established'): 1, ('established', 'the'): 1, ('the', 'Korea'): 1, ('Korea', 'Foundation'): 1, ('Foundation', 'to'): 1, ('to', 'promote'): 1, ('promote', 'Korean'): 1, ('studies', 'around'): 1, ('around', 'the'): 1, ('the', 'world'): 1, ('world', '1'): 1, ('1', 'Korean'): 1, ('studies', 'was'): 1, ('was', 'originally'): 1, ('originally', 'an'): 1, ('an', 'area'): 1, ('of', 'study'): 1, ('study', 'conceived'): 1, ('conceived', 'of'): 1, ('of', 'and'): 1, ('and', 'defined'): 1, ('defined', 'by'): 1, ('by', 'non'): 1, ('non', 'Koreans'): 1, ('Koreans', 'Korean'): 1, ('Korean', 'scholars'): 1, ('scholars', 'of'): 1, ('Korea', 'tend'): 1, ('tend', 'to'): 1, ('to', 'see'): 1, ('see', 'themselves'): 1, ('themselves', 'as'): 1, ('as', 'linguists'): 1, ('linguists', 'sociologists'): 1, ('sociologists', 'and'): 1, ('and', 'historians'): 1, ('historians', 'but'): 1, ('but', 'not'): 1, ('not', 'as'): 1, ('as', 'Koreanists'): 1, ('Koreanists', 'unless'): 1, ('unless', 'they'): 1, ('have', 'received'): 1, ('received', 'at'): 1, ('at', 'least'): 1, ('least', 'some'): 1, ('some', 'of'): 1, ('of', 'their'): 1, ('their', 'education'): 1, ('education', 'outside'): 1, ('outside', 'Korea'): 1, ('and', 'are'): 1, ('are', 'academically'): 1, ('academically', 'active'): 1, ('active', 'for'): 1, ('for', 'example'): 1, ('example', 'publishing'): 1, ('publishing', 'and'): 1, ('and', 'attending'): 1, ('attending', 'conferences'): 1, ('conferences', 'in'): 1, ('in', 'languages'): 1, ('languages', 'other'): 1, ('other', 'than'): 1, ('than', 'Korean'): 1, ('Korean', 'most'): 1, ('most', 'Korean'): 1, ('studies', 'publications'): 1, ('publications', 'are'): 1, ('are', 'in'): 1, ('English', 'but'): 1, ('but', 'there'): 1, ('there', 'is'): 1, ('is', 'also'): 1, ('also', 'a'): 1, ('a', 'significant'): 1, ('significant', 'amount'): 1, ('amount', 'of'): 1, ('Studies', 'activity'): 1, ('activity', 'in'): 1, ('in', 'other'): 1, ('other', 'European'): 1, ('European', 'languages'): 1, ('languages', 'or'): 1, ('or', 'work'): 1, ('work', 'outside'): 1, ('outside', 'Korean'): 1, ('Korean', 'academia'): 1, ('academia', 'In'): 1, ('In', 'the'): 1, ('the', 'mid'): 1, ('mid', '2000s'): 1, ('2000s', 'Korean'): 1, ('universities', 'pushing'): 1, ('pushing', 'for'): 1, ('for', 'more'): 1, ('more', 'classes'): 1, ('classes', 'taught'): 1, ('taught', 'in'): 1, ('English', 'began'): 1, ('to', 'hire'): 1, ('hire', 'foreign'): 1, ('foreign', 'trained'): 1, ('trained', 'Koreanists'): 1, ('Koreanists', 'of'): 1, ('Korean', 'and'): 1, ('and', 'non'): 1, ('non', 'Korean'): 1, ('Korean', 'origin'): 1, ('origin', 'to'): 1, ('to', 'teach'): 1, ('teach', 'classes'): 1, ('classes', 'This'): 1, ('This', 'was'): 1, ('was', 'often'): 1, ('often', 'geared'): 1, ('geared', 'towards'): 1, ('towards', 'foreigners'): 1, ('foreigners', 'in'): 1, ('Korean', 'graduate'): 1, ('graduate', 'schools'): 1, ('schools', 'There'): 1, ('There', 'are'): 1, ('are', 'now'): 1, ('now', 'graduate'): 1, ('graduate', 'school'): 1, ('school', 'programs'): 1, ('Studies', 'mostly'): 1, ('mostly', 'active'): 1, ('active', 'at'): 1, ('at', 'the'): 1, ('the', 'MA'): 1, ('MA', 'level'): 1, ('level', 'in'): 1, ('in', 'most'): 1, ('most', 'of'): 1, ('of', 'the'): 1, ('the', 'major'): 1, ('major', 'Korean'): 1, ('universities', 'BA'): 1, ('Studies', 'have'): 1, ('have', 'now'): 1, ('now', 'been'): 1, ('been', 'opened'): 1, ('opened', 'at'): 1, ('at', 'two'): 1, ('two', 'Korean'): 1, ('universities', 'The'): 1, ('The', 'BA'): 1, ('programs', 'are'): 1, ('are', 'distinctive'): 1, ('distinctive', 'in'): 1, ('in', 'that'): 1, ('that', 'they'): 1, ('have', 'few'): 1, ('few', 'foreign'): 1, ('foreign', 'students'): 1})\n"
          ]
        }
      ]
    },
    {
      "cell_type": "code",
      "source": [
        "trigram = list(ngrams(data_list, 3))\n",
        "trigram_c = Counter(trigram)\n",
        "print(trigram)"
      ],
      "metadata": {
        "colab": {
          "base_uri": "https://localhost:8080/"
        },
        "id": "ZvU6u0Mno04r",
        "outputId": "1e2fe054-01ac-4e5e-8e8a-dd3d2ce22751"
      },
      "execution_count": null,
      "outputs": [
        {
          "output_type": "stream",
          "name": "stdout",
          "text": [
            "[('Korean', 'studies', 'is'), ('studies', 'is', 'an'), ('is', 'an', 'academic'), ('an', 'academic', 'discipline'), ('academic', 'discipline', 'that'), ('discipline', 'that', 'focuses'), ('that', 'focuses', 'on'), ('focuses', 'on', 'the'), ('on', 'the', 'study'), ('the', 'study', 'of'), ('study', 'of', 'Korea'), ('of', 'Korea', 'which'), ('Korea', 'which', 'includes'), ('which', 'includes', 'the'), ('includes', 'the', 'Republic'), ('the', 'Republic', 'of'), ('Republic', 'of', 'Korea'), ('of', 'Korea', 'the'), ('Korea', 'the', 'Democratic'), ('the', 'Democratic', \"People's\"), ('Democratic', \"People's\", 'Republic'), (\"People's\", 'Republic', 'of'), ('Republic', 'of', 'Korea'), ('of', 'Korea', 'and'), ('Korea', 'and', 'diasporic'), ('and', 'diasporic', 'Korean'), ('diasporic', 'Korean', 'populations'), ('Korean', 'populations', 'Areas'), ('populations', 'Areas', 'commonly'), ('Areas', 'commonly', 'included'), ('commonly', 'included', 'under'), ('included', 'under', 'this'), ('under', 'this', 'rubric'), ('this', 'rubric', 'include'), ('rubric', 'include', 'Korean'), ('include', 'Korean', 'history'), ('Korean', 'history', 'Korean'), ('history', 'Korean', 'culture'), ('Korean', 'culture', 'Korean'), ('culture', 'Korean', 'literature'), ('Korean', 'literature', 'Korean'), ('literature', 'Korean', 'art'), ('Korean', 'art', 'Korean'), ('art', 'Korean', 'music'), ('Korean', 'music', 'Korean'), ('music', 'Korean', 'language'), ('Korean', 'language', 'and'), ('language', 'and', 'linguistics'), ('and', 'linguistics', 'Korean'), ('linguistics', 'Korean', 'sociology'), ('Korean', 'sociology', 'and'), ('sociology', 'and', 'anthropology'), ('and', 'anthropology', 'Korean'), ('anthropology', 'Korean', 'politics'), ('Korean', 'politics', 'Korean'), ('politics', 'Korean', 'economics'), ('Korean', 'economics', 'Korean'), ('economics', 'Korean', 'folklore'), ('Korean', 'folklore', 'Korean'), ('folklore', 'Korean', 'ethnomusicology'), ('Korean', 'ethnomusicology', 'and'), ('ethnomusicology', 'and', 'increasingly'), ('and', 'increasingly', 'study'), ('increasingly', 'study', 'of'), ('study', 'of', 'Korean'), ('of', 'Korean', 'popular'), ('Korean', 'popular', 'culture'), ('popular', 'culture', 'It'), ('culture', 'It', 'may'), ('It', 'may', 'be'), ('may', 'be', 'compared'), ('be', 'compared', 'to'), ('compared', 'to', 'other'), ('to', 'other', 'area'), ('other', 'area', 'studies'), ('area', 'studies', 'disciplines'), ('studies', 'disciplines', 'such'), ('disciplines', 'such', 'as'), ('such', 'as', 'American'), ('as', 'American', 'studies'), ('American', 'studies', 'and'), ('studies', 'and', 'Chinese'), ('and', 'Chinese', 'studies'), ('Chinese', 'studies', 'Korean'), ('studies', 'Korean', 'studies'), ('Korean', 'studies', 'is'), ('studies', 'is', 'sometimes'), ('is', 'sometimes', 'included'), ('sometimes', 'included', 'within'), ('included', 'within', 'a'), ('within', 'a', 'broader'), ('a', 'broader', 'regional'), ('broader', 'regional', 'area'), ('regional', 'area', 'of'), ('area', 'of', 'focus'), ('of', 'focus', 'including'), ('focus', 'including', 'East'), ('including', 'East', 'Asian'), ('East', 'Asian', 'studies'), ('Asian', 'studies', 'The'), ('studies', 'The', 'term'), ('The', 'term', 'Korean'), ('term', 'Korean', 'studies'), ('Korean', 'studies', 'first'), ('studies', 'first', 'began'), ('first', 'began', 'to'), ('began', 'to', 'be'), ('to', 'be', 'used'), ('be', 'used', 'in'), ('used', 'in', 'the'), ('in', 'the', '1940s'), ('the', '1940s', 'but'), ('1940s', 'but', 'did'), ('but', 'did', 'not'), ('did', 'not', 'attain'), ('not', 'attain', 'widespread'), ('attain', 'widespread', 'currency'), ('widespread', 'currency', 'until'), ('currency', 'until', 'South'), ('until', 'South', 'Korea'), ('South', 'Korea', 'rose'), ('Korea', 'rose', 'to'), ('rose', 'to', 'economic'), ('to', 'economic', 'prominence'), ('economic', 'prominence', 'in'), ('prominence', 'in', 'the'), ('in', 'the', '1970s'), ('the', '1970s', 'In'), ('1970s', 'In', '1991'), ('In', '1991', 'the'), ('1991', 'the', 'South'), ('the', 'South', 'Korean'), ('South', 'Korean', 'government'), ('Korean', 'government', 'established'), ('government', 'established', 'the'), ('established', 'the', 'Korea'), ('the', 'Korea', 'Foundation'), ('Korea', 'Foundation', 'to'), ('Foundation', 'to', 'promote'), ('to', 'promote', 'Korean'), ('promote', 'Korean', 'studies'), ('Korean', 'studies', 'around'), ('studies', 'around', 'the'), ('around', 'the', 'world'), ('the', 'world', '1'), ('world', '1', 'Korean'), ('1', 'Korean', 'studies'), ('Korean', 'studies', 'was'), ('studies', 'was', 'originally'), ('was', 'originally', 'an'), ('originally', 'an', 'area'), ('an', 'area', 'of'), ('area', 'of', 'study'), ('of', 'study', 'conceived'), ('study', 'conceived', 'of'), ('conceived', 'of', 'and'), ('of', 'and', 'defined'), ('and', 'defined', 'by'), ('defined', 'by', 'non'), ('by', 'non', 'Koreans'), ('non', 'Koreans', 'Korean'), ('Koreans', 'Korean', 'scholars'), ('Korean', 'scholars', 'of'), ('scholars', 'of', 'Korea'), ('of', 'Korea', 'tend'), ('Korea', 'tend', 'to'), ('tend', 'to', 'see'), ('to', 'see', 'themselves'), ('see', 'themselves', 'as'), ('themselves', 'as', 'linguists'), ('as', 'linguists', 'sociologists'), ('linguists', 'sociologists', 'and'), ('sociologists', 'and', 'historians'), ('and', 'historians', 'but'), ('historians', 'but', 'not'), ('but', 'not', 'as'), ('not', 'as', 'Koreanists'), ('as', 'Koreanists', 'unless'), ('Koreanists', 'unless', 'they'), ('unless', 'they', 'have'), ('they', 'have', 'received'), ('have', 'received', 'at'), ('received', 'at', 'least'), ('at', 'least', 'some'), ('least', 'some', 'of'), ('some', 'of', 'their'), ('of', 'their', 'education'), ('their', 'education', 'outside'), ('education', 'outside', 'Korea'), ('outside', 'Korea', 'and'), ('Korea', 'and', 'are'), ('and', 'are', 'academically'), ('are', 'academically', 'active'), ('academically', 'active', 'for'), ('active', 'for', 'example'), ('for', 'example', 'publishing'), ('example', 'publishing', 'and'), ('publishing', 'and', 'attending'), ('and', 'attending', 'conferences'), ('attending', 'conferences', 'in'), ('conferences', 'in', 'languages'), ('in', 'languages', 'other'), ('languages', 'other', 'than'), ('other', 'than', 'Korean'), ('than', 'Korean', 'most'), ('Korean', 'most', 'Korean'), ('most', 'Korean', 'studies'), ('Korean', 'studies', 'publications'), ('studies', 'publications', 'are'), ('publications', 'are', 'in'), ('are', 'in', 'English'), ('in', 'English', 'but'), ('English', 'but', 'there'), ('but', 'there', 'is'), ('there', 'is', 'also'), ('is', 'also', 'a'), ('also', 'a', 'significant'), ('a', 'significant', 'amount'), ('significant', 'amount', 'of'), ('amount', 'of', 'Korean'), ('of', 'Korean', 'Studies'), ('Korean', 'Studies', 'activity'), ('Studies', 'activity', 'in'), ('activity', 'in', 'other'), ('in', 'other', 'European'), ('other', 'European', 'languages'), ('European', 'languages', 'or'), ('languages', 'or', 'work'), ('or', 'work', 'outside'), ('work', 'outside', 'Korean'), ('outside', 'Korean', 'academia'), ('Korean', 'academia', 'In'), ('academia', 'In', 'the'), ('In', 'the', 'mid'), ('the', 'mid', '2000s'), ('mid', '2000s', 'Korean'), ('2000s', 'Korean', 'universities'), ('Korean', 'universities', 'pushing'), ('universities', 'pushing', 'for'), ('pushing', 'for', 'more'), ('for', 'more', 'classes'), ('more', 'classes', 'taught'), ('classes', 'taught', 'in'), ('taught', 'in', 'English'), ('in', 'English', 'began'), ('English', 'began', 'to'), ('began', 'to', 'hire'), ('to', 'hire', 'foreign'), ('hire', 'foreign', 'trained'), ('foreign', 'trained', 'Koreanists'), ('trained', 'Koreanists', 'of'), ('Koreanists', 'of', 'Korean'), ('of', 'Korean', 'and'), ('Korean', 'and', 'non'), ('and', 'non', 'Korean'), ('non', 'Korean', 'origin'), ('Korean', 'origin', 'to'), ('origin', 'to', 'teach'), ('to', 'teach', 'classes'), ('teach', 'classes', 'This'), ('classes', 'This', 'was'), ('This', 'was', 'often'), ('was', 'often', 'geared'), ('often', 'geared', 'towards'), ('geared', 'towards', 'foreigners'), ('towards', 'foreigners', 'in'), ('foreigners', 'in', 'Korean'), ('in', 'Korean', 'graduate'), ('Korean', 'graduate', 'schools'), ('graduate', 'schools', 'There'), ('schools', 'There', 'are'), ('There', 'are', 'now'), ('are', 'now', 'graduate'), ('now', 'graduate', 'school'), ('graduate', 'school', 'programs'), ('school', 'programs', 'in'), ('programs', 'in', 'Korean'), ('in', 'Korean', 'Studies'), ('Korean', 'Studies', 'mostly'), ('Studies', 'mostly', 'active'), ('mostly', 'active', 'at'), ('active', 'at', 'the'), ('at', 'the', 'MA'), ('the', 'MA', 'level'), ('MA', 'level', 'in'), ('level', 'in', 'most'), ('in', 'most', 'of'), ('most', 'of', 'the'), ('of', 'the', 'major'), ('the', 'major', 'Korean'), ('major', 'Korean', 'universities'), ('Korean', 'universities', 'BA'), ('universities', 'BA', 'programs'), ('BA', 'programs', 'in'), ('programs', 'in', 'Korean'), ('in', 'Korean', 'Studies'), ('Korean', 'Studies', 'have'), ('Studies', 'have', 'now'), ('have', 'now', 'been'), ('now', 'been', 'opened'), ('been', 'opened', 'at'), ('opened', 'at', 'two'), ('at', 'two', 'Korean'), ('two', 'Korean', 'universities'), ('Korean', 'universities', 'The'), ('universities', 'The', 'BA'), ('The', 'BA', 'programs'), ('BA', 'programs', 'are'), ('programs', 'are', 'distinctive'), ('are', 'distinctive', 'in'), ('distinctive', 'in', 'that'), ('in', 'that', 'they'), ('that', 'they', 'have'), ('they', 'have', 'few'), ('have', 'few', 'foreign'), ('few', 'foreign', 'students')]\n"
          ]
        }
      ]
    },
    {
      "cell_type": "markdown",
      "source": [
        "N-gram: sequence of N units put together. Usually the unit is a word. Bigram -> 2 words put together. Trigram -> 3 words put together. \n",
        "\n",
        "There is a ngram module inside nltk and it makes a list of tuples(n-gram)."
      ],
      "metadata": {
        "id": "rWSEuHeMjmmJ"
      }
    },
    {
      "cell_type": "code",
      "source": [
        "def mle(upper_c, bound_c):\n",
        "  return upper_c / bound_c"
      ],
      "metadata": {
        "id": "xd5Dw9F9onWM"
      },
      "execution_count": null,
      "outputs": []
    },
    {
      "cell_type": "markdown",
      "source": [
        "To predict the probability of a word we use maximum likelihood estimation.\n",
        "\n",
        "It calculates the probablity of a certain word using n-grams and conditional probability.\n",
        "\n",
        "Lets suppose we are calculating the probability of word \n",
        "'Studies' being the next word of 'Korean'. Using conditional probability, we can right this as a equcation Q(Korean Studies) / Q(Korean) which means the proabability of 'Korean Studies' given 'Korean'."
      ],
      "metadata": {
        "id": "TGqW6M6ymZ3B"
      }
    },
    {
      "cell_type": "code",
      "source": [
        "mle(bigram_c[('Korean', 'Studies')], word_c['Korean'])"
      ],
      "metadata": {
        "colab": {
          "base_uri": "https://localhost:8080/"
        },
        "id": "CVU3OJ56okmY",
        "outputId": "01dd98ed-39e7-4ab4-947d-d744c48d971b"
      },
      "execution_count": null,
      "outputs": [
        {
          "output_type": "execute_result",
          "data": {
            "text/plain": [
              "0.09375"
            ]
          },
          "metadata": {},
          "execution_count": 36
        }
      ]
    },
    {
      "cell_type": "markdown",
      "source": [
        "There is a 9% chance of 'Studies' being the next word after 'Korean'"
      ],
      "metadata": {
        "id": "SeANXzyIueIi"
      }
    },
    {
      "cell_type": "code",
      "source": [
        "mle(trigram_c[('Korean', 'Studies', 'is')], bigram_c[('Korean', 'Studies')])"
      ],
      "metadata": {
        "colab": {
          "base_uri": "https://localhost:8080/"
        },
        "id": "QVhhY4viwoib",
        "outputId": "2a29272d-97c5-4151-95b1-d202fbe4ea7f"
      },
      "execution_count": null,
      "outputs": [
        {
          "output_type": "execute_result",
          "data": {
            "text/plain": [
              "0.0"
            ]
          },
          "metadata": {},
          "execution_count": 40
        }
      ]
    },
    {
      "cell_type": "markdown",
      "source": [
        "단어가 대문자, 소문자로 표현될 수 있기 때문에 하나로 통일 해보자"
      ],
      "metadata": {
        "id": "rRPwlBdO9Kpy"
      }
    },
    {
      "cell_type": "code",
      "source": [
        "def lower(text_list):\n",
        "  lower_list = []\n",
        "  for word in text_list:\n",
        "      lower_list.append(word.lower())\n",
        "  return lower_list\n"
      ],
      "metadata": {
        "id": "Ns-fRss4xwJM"
      },
      "execution_count": null,
      "outputs": []
    },
    {
      "cell_type": "code",
      "source": [
        "lower_list = lower(data_list)\n",
        "print(lower_list)"
      ],
      "metadata": {
        "colab": {
          "base_uri": "https://localhost:8080/"
        },
        "id": "AvsSvK1M9AJb",
        "outputId": "85101bf2-944c-40e6-c5ca-df58495b60c6"
      },
      "execution_count": null,
      "outputs": [
        {
          "output_type": "stream",
          "name": "stdout",
          "text": [
            "['korean', 'studies', 'is', 'an', 'academic', 'discipline', 'that', 'focuses', 'on', 'the', 'study', 'of', 'korea', 'which', 'includes', 'the', 'republic', 'of', 'korea', 'the', 'democratic', \"people's\", 'republic', 'of', 'korea', 'and', 'diasporic', 'korean', 'populations', 'areas', 'commonly', 'included', 'under', 'this', 'rubric', 'include', 'korean', 'history', 'korean', 'culture', 'korean', 'literature', 'korean', 'art', 'korean', 'music', 'korean', 'language', 'and', 'linguistics', 'korean', 'sociology', 'and', 'anthropology', 'korean', 'politics', 'korean', 'economics', 'korean', 'folklore', 'korean', 'ethnomusicology', 'and', 'increasingly', 'study', 'of', 'korean', 'popular', 'culture', 'it', 'may', 'be', 'compared', 'to', 'other', 'area', 'studies', 'disciplines', 'such', 'as', 'american', 'studies', 'and', 'chinese', 'studies', 'korean', 'studies', 'is', 'sometimes', 'included', 'within', 'a', 'broader', 'regional', 'area', 'of', 'focus', 'including', 'east', 'asian', 'studies', 'the', 'term', 'korean', 'studies', 'first', 'began', 'to', 'be', 'used', 'in', 'the', '1940s', 'but', 'did', 'not', 'attain', 'widespread', 'currency', 'until', 'south', 'korea', 'rose', 'to', 'economic', 'prominence', 'in', 'the', '1970s', 'in', '1991', 'the', 'south', 'korean', 'government', 'established', 'the', 'korea', 'foundation', 'to', 'promote', 'korean', 'studies', 'around', 'the', 'world', '1', 'korean', 'studies', 'was', 'originally', 'an', 'area', 'of', 'study', 'conceived', 'of', 'and', 'defined', 'by', 'non', 'koreans', 'korean', 'scholars', 'of', 'korea', 'tend', 'to', 'see', 'themselves', 'as', 'linguists', 'sociologists', 'and', 'historians', 'but', 'not', 'as', 'koreanists', 'unless', 'they', 'have', 'received', 'at', 'least', 'some', 'of', 'their', 'education', 'outside', 'korea', 'and', 'are', 'academically', 'active', 'for', 'example', 'publishing', 'and', 'attending', 'conferences', 'in', 'languages', 'other', 'than', 'korean', 'most', 'korean', 'studies', 'publications', 'are', 'in', 'english', 'but', 'there', 'is', 'also', 'a', 'significant', 'amount', 'of', 'korean', 'studies', 'activity', 'in', 'other', 'european', 'languages', 'or', 'work', 'outside', 'korean', 'academia', 'in', 'the', 'mid', '2000s', 'korean', 'universities', 'pushing', 'for', 'more', 'classes', 'taught', 'in', 'english', 'began', 'to', 'hire', 'foreign', 'trained', 'koreanists', 'of', 'korean', 'and', 'non', 'korean', 'origin', 'to', 'teach', 'classes', 'this', 'was', 'often', 'geared', 'towards', 'foreigners', 'in', 'korean', 'graduate', 'schools', 'there', 'are', 'now', 'graduate', 'school', 'programs', 'in', 'korean', 'studies', 'mostly', 'active', 'at', 'the', 'ma', 'level', 'in', 'most', 'of', 'the', 'major', 'korean', 'universities', 'ba', 'programs', 'in', 'korean', 'studies', 'have', 'now', 'been', 'opened', 'at', 'two', 'korean', 'universities', 'the', 'ba', 'programs', 'are', 'distinctive', 'in', 'that', 'they', 'have', 'few', 'foreign', 'students']\n"
          ]
        }
      ]
    },
    {
      "cell_type": "code",
      "source": [
        "word_c = Counter(lower_list)\n",
        "print(word_c)"
      ],
      "metadata": {
        "colab": {
          "base_uri": "https://localhost:8080/"
        },
        "id": "URNGSgoC9EEm",
        "outputId": "6c71a0b1-f7f6-42f4-aeb9-2fda4fe10fe1"
      },
      "execution_count": null,
      "outputs": [
        {
          "output_type": "stream",
          "name": "stdout",
          "text": [
            "Counter({'korean': 32, 'studies': 13, 'the': 13, 'in': 13, 'of': 12, 'and': 10, 'korea': 7, 'to': 7, 'are': 4, 'is': 3, 'study': 3, 'other': 3, 'area': 3, 'as': 3, 'but': 3, 'have': 3, 'at': 3, 'universities': 3, 'programs': 3, 'an': 2, 'that': 2, 'republic': 2, 'included': 2, 'this': 2, 'culture': 2, 'be': 2, 'a': 2, 'began': 2, 'not': 2, 'south': 2, 'was': 2, 'non': 2, 'koreanists': 2, 'they': 2, 'outside': 2, 'active': 2, 'for': 2, 'languages': 2, 'most': 2, 'english': 2, 'there': 2, 'classes': 2, 'foreign': 2, 'graduate': 2, 'now': 2, 'ba': 2, 'academic': 1, 'discipline': 1, 'focuses': 1, 'on': 1, 'which': 1, 'includes': 1, 'democratic': 1, \"people's\": 1, 'diasporic': 1, 'populations': 1, 'areas': 1, 'commonly': 1, 'under': 1, 'rubric': 1, 'include': 1, 'history': 1, 'literature': 1, 'art': 1, 'music': 1, 'language': 1, 'linguistics': 1, 'sociology': 1, 'anthropology': 1, 'politics': 1, 'economics': 1, 'folklore': 1, 'ethnomusicology': 1, 'increasingly': 1, 'popular': 1, 'it': 1, 'may': 1, 'compared': 1, 'disciplines': 1, 'such': 1, 'american': 1, 'chinese': 1, 'sometimes': 1, 'within': 1, 'broader': 1, 'regional': 1, 'focus': 1, 'including': 1, 'east': 1, 'asian': 1, 'term': 1, 'first': 1, 'used': 1, '1940s': 1, 'did': 1, 'attain': 1, 'widespread': 1, 'currency': 1, 'until': 1, 'rose': 1, 'economic': 1, 'prominence': 1, '1970s': 1, '1991': 1, 'government': 1, 'established': 1, 'foundation': 1, 'promote': 1, 'around': 1, 'world': 1, '1': 1, 'originally': 1, 'conceived': 1, 'defined': 1, 'by': 1, 'koreans': 1, 'scholars': 1, 'tend': 1, 'see': 1, 'themselves': 1, 'linguists': 1, 'sociologists': 1, 'historians': 1, 'unless': 1, 'received': 1, 'least': 1, 'some': 1, 'their': 1, 'education': 1, 'academically': 1, 'example': 1, 'publishing': 1, 'attending': 1, 'conferences': 1, 'than': 1, 'publications': 1, 'also': 1, 'significant': 1, 'amount': 1, 'activity': 1, 'european': 1, 'or': 1, 'work': 1, 'academia': 1, 'mid': 1, '2000s': 1, 'pushing': 1, 'more': 1, 'taught': 1, 'hire': 1, 'trained': 1, 'origin': 1, 'teach': 1, 'often': 1, 'geared': 1, 'towards': 1, 'foreigners': 1, 'schools': 1, 'school': 1, 'mostly': 1, 'ma': 1, 'level': 1, 'major': 1, 'been': 1, 'opened': 1, 'two': 1, 'distinctive': 1, 'few': 1, 'students': 1})\n"
          ]
        }
      ]
    },
    {
      "cell_type": "code",
      "source": [
        "bigram = list(ngrams(lower_list, 2))\n",
        "bigram_c = Counter(bigram)\n",
        "print(bigram_c)"
      ],
      "metadata": {
        "colab": {
          "base_uri": "https://localhost:8080/"
        },
        "id": "j2wiaQSS-BH2",
        "outputId": "6bfb6140-4c76-4572-88be-d552f22965a4"
      },
      "execution_count": null,
      "outputs": [
        {
          "output_type": "stream",
          "name": "stdout",
          "text": [
            "Counter({('korean', 'studies'): 9, ('of', 'korea'): 4, ('of', 'korean'): 3, ('in', 'the'): 3, ('korean', 'universities'): 3, ('in', 'korean'): 3, ('studies', 'is'): 2, ('study', 'of'): 2, ('republic', 'of'): 2, ('korea', 'and'): 2, ('area', 'of'): 2, ('began', 'to'): 2, ('they', 'have'): 2, ('in', 'english'): 2, ('programs', 'in'): 2, ('ba', 'programs'): 2, ('is', 'an'): 1, ('an', 'academic'): 1, ('academic', 'discipline'): 1, ('discipline', 'that'): 1, ('that', 'focuses'): 1, ('focuses', 'on'): 1, ('on', 'the'): 1, ('the', 'study'): 1, ('korea', 'which'): 1, ('which', 'includes'): 1, ('includes', 'the'): 1, ('the', 'republic'): 1, ('korea', 'the'): 1, ('the', 'democratic'): 1, ('democratic', \"people's\"): 1, (\"people's\", 'republic'): 1, ('and', 'diasporic'): 1, ('diasporic', 'korean'): 1, ('korean', 'populations'): 1, ('populations', 'areas'): 1, ('areas', 'commonly'): 1, ('commonly', 'included'): 1, ('included', 'under'): 1, ('under', 'this'): 1, ('this', 'rubric'): 1, ('rubric', 'include'): 1, ('include', 'korean'): 1, ('korean', 'history'): 1, ('history', 'korean'): 1, ('korean', 'culture'): 1, ('culture', 'korean'): 1, ('korean', 'literature'): 1, ('literature', 'korean'): 1, ('korean', 'art'): 1, ('art', 'korean'): 1, ('korean', 'music'): 1, ('music', 'korean'): 1, ('korean', 'language'): 1, ('language', 'and'): 1, ('and', 'linguistics'): 1, ('linguistics', 'korean'): 1, ('korean', 'sociology'): 1, ('sociology', 'and'): 1, ('and', 'anthropology'): 1, ('anthropology', 'korean'): 1, ('korean', 'politics'): 1, ('politics', 'korean'): 1, ('korean', 'economics'): 1, ('economics', 'korean'): 1, ('korean', 'folklore'): 1, ('folklore', 'korean'): 1, ('korean', 'ethnomusicology'): 1, ('ethnomusicology', 'and'): 1, ('and', 'increasingly'): 1, ('increasingly', 'study'): 1, ('korean', 'popular'): 1, ('popular', 'culture'): 1, ('culture', 'it'): 1, ('it', 'may'): 1, ('may', 'be'): 1, ('be', 'compared'): 1, ('compared', 'to'): 1, ('to', 'other'): 1, ('other', 'area'): 1, ('area', 'studies'): 1, ('studies', 'disciplines'): 1, ('disciplines', 'such'): 1, ('such', 'as'): 1, ('as', 'american'): 1, ('american', 'studies'): 1, ('studies', 'and'): 1, ('and', 'chinese'): 1, ('chinese', 'studies'): 1, ('studies', 'korean'): 1, ('is', 'sometimes'): 1, ('sometimes', 'included'): 1, ('included', 'within'): 1, ('within', 'a'): 1, ('a', 'broader'): 1, ('broader', 'regional'): 1, ('regional', 'area'): 1, ('of', 'focus'): 1, ('focus', 'including'): 1, ('including', 'east'): 1, ('east', 'asian'): 1, ('asian', 'studies'): 1, ('studies', 'the'): 1, ('the', 'term'): 1, ('term', 'korean'): 1, ('studies', 'first'): 1, ('first', 'began'): 1, ('to', 'be'): 1, ('be', 'used'): 1, ('used', 'in'): 1, ('the', '1940s'): 1, ('1940s', 'but'): 1, ('but', 'did'): 1, ('did', 'not'): 1, ('not', 'attain'): 1, ('attain', 'widespread'): 1, ('widespread', 'currency'): 1, ('currency', 'until'): 1, ('until', 'south'): 1, ('south', 'korea'): 1, ('korea', 'rose'): 1, ('rose', 'to'): 1, ('to', 'economic'): 1, ('economic', 'prominence'): 1, ('prominence', 'in'): 1, ('the', '1970s'): 1, ('1970s', 'in'): 1, ('in', '1991'): 1, ('1991', 'the'): 1, ('the', 'south'): 1, ('south', 'korean'): 1, ('korean', 'government'): 1, ('government', 'established'): 1, ('established', 'the'): 1, ('the', 'korea'): 1, ('korea', 'foundation'): 1, ('foundation', 'to'): 1, ('to', 'promote'): 1, ('promote', 'korean'): 1, ('studies', 'around'): 1, ('around', 'the'): 1, ('the', 'world'): 1, ('world', '1'): 1, ('1', 'korean'): 1, ('studies', 'was'): 1, ('was', 'originally'): 1, ('originally', 'an'): 1, ('an', 'area'): 1, ('of', 'study'): 1, ('study', 'conceived'): 1, ('conceived', 'of'): 1, ('of', 'and'): 1, ('and', 'defined'): 1, ('defined', 'by'): 1, ('by', 'non'): 1, ('non', 'koreans'): 1, ('koreans', 'korean'): 1, ('korean', 'scholars'): 1, ('scholars', 'of'): 1, ('korea', 'tend'): 1, ('tend', 'to'): 1, ('to', 'see'): 1, ('see', 'themselves'): 1, ('themselves', 'as'): 1, ('as', 'linguists'): 1, ('linguists', 'sociologists'): 1, ('sociologists', 'and'): 1, ('and', 'historians'): 1, ('historians', 'but'): 1, ('but', 'not'): 1, ('not', 'as'): 1, ('as', 'koreanists'): 1, ('koreanists', 'unless'): 1, ('unless', 'they'): 1, ('have', 'received'): 1, ('received', 'at'): 1, ('at', 'least'): 1, ('least', 'some'): 1, ('some', 'of'): 1, ('of', 'their'): 1, ('their', 'education'): 1, ('education', 'outside'): 1, ('outside', 'korea'): 1, ('and', 'are'): 1, ('are', 'academically'): 1, ('academically', 'active'): 1, ('active', 'for'): 1, ('for', 'example'): 1, ('example', 'publishing'): 1, ('publishing', 'and'): 1, ('and', 'attending'): 1, ('attending', 'conferences'): 1, ('conferences', 'in'): 1, ('in', 'languages'): 1, ('languages', 'other'): 1, ('other', 'than'): 1, ('than', 'korean'): 1, ('korean', 'most'): 1, ('most', 'korean'): 1, ('studies', 'publications'): 1, ('publications', 'are'): 1, ('are', 'in'): 1, ('english', 'but'): 1, ('but', 'there'): 1, ('there', 'is'): 1, ('is', 'also'): 1, ('also', 'a'): 1, ('a', 'significant'): 1, ('significant', 'amount'): 1, ('amount', 'of'): 1, ('studies', 'activity'): 1, ('activity', 'in'): 1, ('in', 'other'): 1, ('other', 'european'): 1, ('european', 'languages'): 1, ('languages', 'or'): 1, ('or', 'work'): 1, ('work', 'outside'): 1, ('outside', 'korean'): 1, ('korean', 'academia'): 1, ('academia', 'in'): 1, ('the', 'mid'): 1, ('mid', '2000s'): 1, ('2000s', 'korean'): 1, ('universities', 'pushing'): 1, ('pushing', 'for'): 1, ('for', 'more'): 1, ('more', 'classes'): 1, ('classes', 'taught'): 1, ('taught', 'in'): 1, ('english', 'began'): 1, ('to', 'hire'): 1, ('hire', 'foreign'): 1, ('foreign', 'trained'): 1, ('trained', 'koreanists'): 1, ('koreanists', 'of'): 1, ('korean', 'and'): 1, ('and', 'non'): 1, ('non', 'korean'): 1, ('korean', 'origin'): 1, ('origin', 'to'): 1, ('to', 'teach'): 1, ('teach', 'classes'): 1, ('classes', 'this'): 1, ('this', 'was'): 1, ('was', 'often'): 1, ('often', 'geared'): 1, ('geared', 'towards'): 1, ('towards', 'foreigners'): 1, ('foreigners', 'in'): 1, ('korean', 'graduate'): 1, ('graduate', 'schools'): 1, ('schools', 'there'): 1, ('there', 'are'): 1, ('are', 'now'): 1, ('now', 'graduate'): 1, ('graduate', 'school'): 1, ('school', 'programs'): 1, ('studies', 'mostly'): 1, ('mostly', 'active'): 1, ('active', 'at'): 1, ('at', 'the'): 1, ('the', 'ma'): 1, ('ma', 'level'): 1, ('level', 'in'): 1, ('in', 'most'): 1, ('most', 'of'): 1, ('of', 'the'): 1, ('the', 'major'): 1, ('major', 'korean'): 1, ('universities', 'ba'): 1, ('studies', 'have'): 1, ('have', 'now'): 1, ('now', 'been'): 1, ('been', 'opened'): 1, ('opened', 'at'): 1, ('at', 'two'): 1, ('two', 'korean'): 1, ('universities', 'the'): 1, ('the', 'ba'): 1, ('programs', 'are'): 1, ('are', 'distinctive'): 1, ('distinctive', 'in'): 1, ('in', 'that'): 1, ('that', 'they'): 1, ('have', 'few'): 1, ('few', 'foreign'): 1, ('foreign', 'students'): 1})\n"
          ]
        }
      ]
    },
    {
      "cell_type": "code",
      "source": [
        "trigram = list(ngrams(lower_list, 3))\n",
        "trigram_c = Counter(trigram)\n",
        "print(trigram_c)"
      ],
      "metadata": {
        "colab": {
          "base_uri": "https://localhost:8080/"
        },
        "id": "UlEWe_PFEu3A",
        "outputId": "fa688678-cd54-4393-9baa-8cd96e40ed34"
      },
      "execution_count": null,
      "outputs": [
        {
          "output_type": "stream",
          "name": "stdout",
          "text": [
            "Counter({('korean', 'studies', 'is'): 2, ('republic', 'of', 'korea'): 2, ('programs', 'in', 'korean'): 2, ('in', 'korean', 'studies'): 2, ('studies', 'is', 'an'): 1, ('is', 'an', 'academic'): 1, ('an', 'academic', 'discipline'): 1, ('academic', 'discipline', 'that'): 1, ('discipline', 'that', 'focuses'): 1, ('that', 'focuses', 'on'): 1, ('focuses', 'on', 'the'): 1, ('on', 'the', 'study'): 1, ('the', 'study', 'of'): 1, ('study', 'of', 'korea'): 1, ('of', 'korea', 'which'): 1, ('korea', 'which', 'includes'): 1, ('which', 'includes', 'the'): 1, ('includes', 'the', 'republic'): 1, ('the', 'republic', 'of'): 1, ('of', 'korea', 'the'): 1, ('korea', 'the', 'democratic'): 1, ('the', 'democratic', \"people's\"): 1, ('democratic', \"people's\", 'republic'): 1, (\"people's\", 'republic', 'of'): 1, ('of', 'korea', 'and'): 1, ('korea', 'and', 'diasporic'): 1, ('and', 'diasporic', 'korean'): 1, ('diasporic', 'korean', 'populations'): 1, ('korean', 'populations', 'areas'): 1, ('populations', 'areas', 'commonly'): 1, ('areas', 'commonly', 'included'): 1, ('commonly', 'included', 'under'): 1, ('included', 'under', 'this'): 1, ('under', 'this', 'rubric'): 1, ('this', 'rubric', 'include'): 1, ('rubric', 'include', 'korean'): 1, ('include', 'korean', 'history'): 1, ('korean', 'history', 'korean'): 1, ('history', 'korean', 'culture'): 1, ('korean', 'culture', 'korean'): 1, ('culture', 'korean', 'literature'): 1, ('korean', 'literature', 'korean'): 1, ('literature', 'korean', 'art'): 1, ('korean', 'art', 'korean'): 1, ('art', 'korean', 'music'): 1, ('korean', 'music', 'korean'): 1, ('music', 'korean', 'language'): 1, ('korean', 'language', 'and'): 1, ('language', 'and', 'linguistics'): 1, ('and', 'linguistics', 'korean'): 1, ('linguistics', 'korean', 'sociology'): 1, ('korean', 'sociology', 'and'): 1, ('sociology', 'and', 'anthropology'): 1, ('and', 'anthropology', 'korean'): 1, ('anthropology', 'korean', 'politics'): 1, ('korean', 'politics', 'korean'): 1, ('politics', 'korean', 'economics'): 1, ('korean', 'economics', 'korean'): 1, ('economics', 'korean', 'folklore'): 1, ('korean', 'folklore', 'korean'): 1, ('folklore', 'korean', 'ethnomusicology'): 1, ('korean', 'ethnomusicology', 'and'): 1, ('ethnomusicology', 'and', 'increasingly'): 1, ('and', 'increasingly', 'study'): 1, ('increasingly', 'study', 'of'): 1, ('study', 'of', 'korean'): 1, ('of', 'korean', 'popular'): 1, ('korean', 'popular', 'culture'): 1, ('popular', 'culture', 'it'): 1, ('culture', 'it', 'may'): 1, ('it', 'may', 'be'): 1, ('may', 'be', 'compared'): 1, ('be', 'compared', 'to'): 1, ('compared', 'to', 'other'): 1, ('to', 'other', 'area'): 1, ('other', 'area', 'studies'): 1, ('area', 'studies', 'disciplines'): 1, ('studies', 'disciplines', 'such'): 1, ('disciplines', 'such', 'as'): 1, ('such', 'as', 'american'): 1, ('as', 'american', 'studies'): 1, ('american', 'studies', 'and'): 1, ('studies', 'and', 'chinese'): 1, ('and', 'chinese', 'studies'): 1, ('chinese', 'studies', 'korean'): 1, ('studies', 'korean', 'studies'): 1, ('studies', 'is', 'sometimes'): 1, ('is', 'sometimes', 'included'): 1, ('sometimes', 'included', 'within'): 1, ('included', 'within', 'a'): 1, ('within', 'a', 'broader'): 1, ('a', 'broader', 'regional'): 1, ('broader', 'regional', 'area'): 1, ('regional', 'area', 'of'): 1, ('area', 'of', 'focus'): 1, ('of', 'focus', 'including'): 1, ('focus', 'including', 'east'): 1, ('including', 'east', 'asian'): 1, ('east', 'asian', 'studies'): 1, ('asian', 'studies', 'the'): 1, ('studies', 'the', 'term'): 1, ('the', 'term', 'korean'): 1, ('term', 'korean', 'studies'): 1, ('korean', 'studies', 'first'): 1, ('studies', 'first', 'began'): 1, ('first', 'began', 'to'): 1, ('began', 'to', 'be'): 1, ('to', 'be', 'used'): 1, ('be', 'used', 'in'): 1, ('used', 'in', 'the'): 1, ('in', 'the', '1940s'): 1, ('the', '1940s', 'but'): 1, ('1940s', 'but', 'did'): 1, ('but', 'did', 'not'): 1, ('did', 'not', 'attain'): 1, ('not', 'attain', 'widespread'): 1, ('attain', 'widespread', 'currency'): 1, ('widespread', 'currency', 'until'): 1, ('currency', 'until', 'south'): 1, ('until', 'south', 'korea'): 1, ('south', 'korea', 'rose'): 1, ('korea', 'rose', 'to'): 1, ('rose', 'to', 'economic'): 1, ('to', 'economic', 'prominence'): 1, ('economic', 'prominence', 'in'): 1, ('prominence', 'in', 'the'): 1, ('in', 'the', '1970s'): 1, ('the', '1970s', 'in'): 1, ('1970s', 'in', '1991'): 1, ('in', '1991', 'the'): 1, ('1991', 'the', 'south'): 1, ('the', 'south', 'korean'): 1, ('south', 'korean', 'government'): 1, ('korean', 'government', 'established'): 1, ('government', 'established', 'the'): 1, ('established', 'the', 'korea'): 1, ('the', 'korea', 'foundation'): 1, ('korea', 'foundation', 'to'): 1, ('foundation', 'to', 'promote'): 1, ('to', 'promote', 'korean'): 1, ('promote', 'korean', 'studies'): 1, ('korean', 'studies', 'around'): 1, ('studies', 'around', 'the'): 1, ('around', 'the', 'world'): 1, ('the', 'world', '1'): 1, ('world', '1', 'korean'): 1, ('1', 'korean', 'studies'): 1, ('korean', 'studies', 'was'): 1, ('studies', 'was', 'originally'): 1, ('was', 'originally', 'an'): 1, ('originally', 'an', 'area'): 1, ('an', 'area', 'of'): 1, ('area', 'of', 'study'): 1, ('of', 'study', 'conceived'): 1, ('study', 'conceived', 'of'): 1, ('conceived', 'of', 'and'): 1, ('of', 'and', 'defined'): 1, ('and', 'defined', 'by'): 1, ('defined', 'by', 'non'): 1, ('by', 'non', 'koreans'): 1, ('non', 'koreans', 'korean'): 1, ('koreans', 'korean', 'scholars'): 1, ('korean', 'scholars', 'of'): 1, ('scholars', 'of', 'korea'): 1, ('of', 'korea', 'tend'): 1, ('korea', 'tend', 'to'): 1, ('tend', 'to', 'see'): 1, ('to', 'see', 'themselves'): 1, ('see', 'themselves', 'as'): 1, ('themselves', 'as', 'linguists'): 1, ('as', 'linguists', 'sociologists'): 1, ('linguists', 'sociologists', 'and'): 1, ('sociologists', 'and', 'historians'): 1, ('and', 'historians', 'but'): 1, ('historians', 'but', 'not'): 1, ('but', 'not', 'as'): 1, ('not', 'as', 'koreanists'): 1, ('as', 'koreanists', 'unless'): 1, ('koreanists', 'unless', 'they'): 1, ('unless', 'they', 'have'): 1, ('they', 'have', 'received'): 1, ('have', 'received', 'at'): 1, ('received', 'at', 'least'): 1, ('at', 'least', 'some'): 1, ('least', 'some', 'of'): 1, ('some', 'of', 'their'): 1, ('of', 'their', 'education'): 1, ('their', 'education', 'outside'): 1, ('education', 'outside', 'korea'): 1, ('outside', 'korea', 'and'): 1, ('korea', 'and', 'are'): 1, ('and', 'are', 'academically'): 1, ('are', 'academically', 'active'): 1, ('academically', 'active', 'for'): 1, ('active', 'for', 'example'): 1, ('for', 'example', 'publishing'): 1, ('example', 'publishing', 'and'): 1, ('publishing', 'and', 'attending'): 1, ('and', 'attending', 'conferences'): 1, ('attending', 'conferences', 'in'): 1, ('conferences', 'in', 'languages'): 1, ('in', 'languages', 'other'): 1, ('languages', 'other', 'than'): 1, ('other', 'than', 'korean'): 1, ('than', 'korean', 'most'): 1, ('korean', 'most', 'korean'): 1, ('most', 'korean', 'studies'): 1, ('korean', 'studies', 'publications'): 1, ('studies', 'publications', 'are'): 1, ('publications', 'are', 'in'): 1, ('are', 'in', 'english'): 1, ('in', 'english', 'but'): 1, ('english', 'but', 'there'): 1, ('but', 'there', 'is'): 1, ('there', 'is', 'also'): 1, ('is', 'also', 'a'): 1, ('also', 'a', 'significant'): 1, ('a', 'significant', 'amount'): 1, ('significant', 'amount', 'of'): 1, ('amount', 'of', 'korean'): 1, ('of', 'korean', 'studies'): 1, ('korean', 'studies', 'activity'): 1, ('studies', 'activity', 'in'): 1, ('activity', 'in', 'other'): 1, ('in', 'other', 'european'): 1, ('other', 'european', 'languages'): 1, ('european', 'languages', 'or'): 1, ('languages', 'or', 'work'): 1, ('or', 'work', 'outside'): 1, ('work', 'outside', 'korean'): 1, ('outside', 'korean', 'academia'): 1, ('korean', 'academia', 'in'): 1, ('academia', 'in', 'the'): 1, ('in', 'the', 'mid'): 1, ('the', 'mid', '2000s'): 1, ('mid', '2000s', 'korean'): 1, ('2000s', 'korean', 'universities'): 1, ('korean', 'universities', 'pushing'): 1, ('universities', 'pushing', 'for'): 1, ('pushing', 'for', 'more'): 1, ('for', 'more', 'classes'): 1, ('more', 'classes', 'taught'): 1, ('classes', 'taught', 'in'): 1, ('taught', 'in', 'english'): 1, ('in', 'english', 'began'): 1, ('english', 'began', 'to'): 1, ('began', 'to', 'hire'): 1, ('to', 'hire', 'foreign'): 1, ('hire', 'foreign', 'trained'): 1, ('foreign', 'trained', 'koreanists'): 1, ('trained', 'koreanists', 'of'): 1, ('koreanists', 'of', 'korean'): 1, ('of', 'korean', 'and'): 1, ('korean', 'and', 'non'): 1, ('and', 'non', 'korean'): 1, ('non', 'korean', 'origin'): 1, ('korean', 'origin', 'to'): 1, ('origin', 'to', 'teach'): 1, ('to', 'teach', 'classes'): 1, ('teach', 'classes', 'this'): 1, ('classes', 'this', 'was'): 1, ('this', 'was', 'often'): 1, ('was', 'often', 'geared'): 1, ('often', 'geared', 'towards'): 1, ('geared', 'towards', 'foreigners'): 1, ('towards', 'foreigners', 'in'): 1, ('foreigners', 'in', 'korean'): 1, ('in', 'korean', 'graduate'): 1, ('korean', 'graduate', 'schools'): 1, ('graduate', 'schools', 'there'): 1, ('schools', 'there', 'are'): 1, ('there', 'are', 'now'): 1, ('are', 'now', 'graduate'): 1, ('now', 'graduate', 'school'): 1, ('graduate', 'school', 'programs'): 1, ('school', 'programs', 'in'): 1, ('korean', 'studies', 'mostly'): 1, ('studies', 'mostly', 'active'): 1, ('mostly', 'active', 'at'): 1, ('active', 'at', 'the'): 1, ('at', 'the', 'ma'): 1, ('the', 'ma', 'level'): 1, ('ma', 'level', 'in'): 1, ('level', 'in', 'most'): 1, ('in', 'most', 'of'): 1, ('most', 'of', 'the'): 1, ('of', 'the', 'major'): 1, ('the', 'major', 'korean'): 1, ('major', 'korean', 'universities'): 1, ('korean', 'universities', 'ba'): 1, ('universities', 'ba', 'programs'): 1, ('ba', 'programs', 'in'): 1, ('korean', 'studies', 'have'): 1, ('studies', 'have', 'now'): 1, ('have', 'now', 'been'): 1, ('now', 'been', 'opened'): 1, ('been', 'opened', 'at'): 1, ('opened', 'at', 'two'): 1, ('at', 'two', 'korean'): 1, ('two', 'korean', 'universities'): 1, ('korean', 'universities', 'the'): 1, ('universities', 'the', 'ba'): 1, ('the', 'ba', 'programs'): 1, ('ba', 'programs', 'are'): 1, ('programs', 'are', 'distinctive'): 1, ('are', 'distinctive', 'in'): 1, ('distinctive', 'in', 'that'): 1, ('in', 'that', 'they'): 1, ('that', 'they', 'have'): 1, ('they', 'have', 'few'): 1, ('have', 'few', 'foreign'): 1, ('few', 'foreign', 'students'): 1})\n"
          ]
        }
      ]
    },
    {
      "cell_type": "code",
      "source": [
        "mle(trigram_c[('korean', 'studies','is')], bigram_c[('korean', 'studies')])"
      ],
      "metadata": {
        "colab": {
          "base_uri": "https://localhost:8080/"
        },
        "id": "eGWdHzt5E7_u",
        "outputId": "d2725d79-6c05-481e-8fda-b79f72bcf5a9"
      },
      "execution_count": null,
      "outputs": [
        {
          "output_type": "execute_result",
          "data": {
            "text/plain": [
              "0.2222222222222222"
            ]
          },
          "metadata": {},
          "execution_count": 57
        }
      ]
    },
    {
      "cell_type": "code",
      "source": [
        ""
      ],
      "metadata": {
        "id": "1Z0oJzisFaK9"
      },
      "execution_count": null,
      "outputs": []
    }
  ]
}
